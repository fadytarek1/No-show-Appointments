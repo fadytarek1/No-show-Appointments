{
 "cells": [
  {
   "cell_type": "markdown",
   "id": "b4815259",
   "metadata": {
    "papermill": {
     "duration": 0.01507,
     "end_time": "2022-06-06T17:53:08.890080",
     "exception": false,
     "start_time": "2022-06-06T17:53:08.875010",
     "status": "completed"
    },
    "tags": []
   },
   "source": [
    "# Project: Investigate a Dataset of no show appointments - kagglev2 may-2016\n",
    "\n",
    "## Table of Contents\n",
    "<ul>\n",
    "<li><a href=\"#intro\">Introduction</a></li>\n",
    "<li><a href=\"#wrangling\">Data Wrangling</a></li>\n",
    "<li><a href=\"#eda\">Exploratory Data Analysis</a></li>\n",
    "<li><a href=\"#conclusions\">Conclusions</a></li>\n",
    "</ul>"
   ]
  },
  {
   "cell_type": "markdown",
   "id": "ae0df62f",
   "metadata": {
    "papermill": {
     "duration": 0.016089,
     "end_time": "2022-06-06T17:53:08.920113",
     "exception": false,
     "start_time": "2022-06-06T17:53:08.904024",
     "status": "completed"
    },
    "tags": []
   },
   "source": [
    "<a id='intro'></a>\n",
    "## Introduction\n",
    "**This dataset represents fourteen characteristics of patients who have a medical appointment. The main character in the dataset is \"No-show\" which states if the patient was attended or not.** **the source of dataset:** https://www.kaggle.com/datasets/joniarroba/noshowappointments"
   ]
  },
  {
   "cell_type": "markdown",
   "id": "e2fe1ef1",
   "metadata": {
    "papermill": {
     "duration": 0.013983,
     "end_time": "2022-06-06T17:53:08.949202",
     "exception": false,
     "start_time": "2022-06-06T17:53:08.935219",
     "status": "completed"
    },
    "tags": []
   },
   "source": [
    "### Data Dictionary\n"
   ]
  },
  {
   "cell_type": "markdown",
   "id": "0963d372",
   "metadata": {
    "papermill": {
     "duration": 0.013651,
     "end_time": "2022-06-06T17:53:08.978226",
     "exception": false,
     "start_time": "2022-06-06T17:53:08.964575",
     "status": "completed"
    },
    "tags": []
   },
   "source": [
    "**01 - PatientId: Identification of a patient**\n"
   ]
  },
  {
   "cell_type": "markdown",
   "id": "c7bc974f",
   "metadata": {
    "papermill": {
     "duration": 0.015939,
     "end_time": "2022-06-06T17:53:09.008014",
     "exception": false,
     "start_time": "2022-06-06T17:53:08.992075",
     "status": "completed"
    },
    "tags": []
   },
   "source": [
    "**02 - AppointmentID: Identification of each appointment**\n"
   ]
  },
  {
   "cell_type": "markdown",
   "id": "bb6e2bad",
   "metadata": {
    "papermill": {
     "duration": 0.013664,
     "end_time": "2022-06-06T17:53:09.039880",
     "exception": false,
     "start_time": "2022-06-06T17:53:09.026216",
     "status": "completed"
    },
    "tags": []
   },
   "source": [
    "**03 - Gender: Male or Female . Female is the greater proportion, woman takes way more care of they health in comparison to man.**\n"
   ]
  },
  {
   "cell_type": "markdown",
   "id": "6f4d1116",
   "metadata": {
    "papermill": {
     "duration": 0.018595,
     "end_time": "2022-06-06T17:53:09.073329",
     "exception": false,
     "start_time": "2022-06-06T17:53:09.054734",
     "status": "completed"
    },
    "tags": []
   },
   "source": [
    "**04 - ScheduledDay: The day of the actuall appointment, when they have to visit the doctor.**"
   ]
  },
  {
   "cell_type": "markdown",
   "id": "be011a89",
   "metadata": {
    "papermill": {
     "duration": 0.01343,
     "end_time": "2022-06-06T17:53:09.100586",
     "exception": false,
     "start_time": "2022-06-06T17:53:09.087156",
     "status": "completed"
    },
    "tags": []
   },
   "source": [
    "**05 - AppointmentDay: The day someone called or registered the appointment, this is before appointment of course.**"
   ]
  },
  {
   "cell_type": "markdown",
   "id": "5ebc8582",
   "metadata": {
    "papermill": {
     "duration": 0.013491,
     "end_time": "2022-06-06T17:53:09.128016",
     "exception": false,
     "start_time": "2022-06-06T17:53:09.114525",
     "status": "completed"
    },
    "tags": []
   },
   "source": [
    "**06 - Age: How old is the patient.**"
   ]
  },
  {
   "cell_type": "markdown",
   "id": "216edb12",
   "metadata": {
    "papermill": {
     "duration": 0.013858,
     "end_time": "2022-06-06T17:53:09.163114",
     "exception": false,
     "start_time": "2022-06-06T17:53:09.149256",
     "status": "completed"
    },
    "tags": []
   },
   "source": [
    "**07 - Neighbourhood: Where the appointment takes place.**"
   ]
  },
  {
   "cell_type": "markdown",
   "id": "9c23943d",
   "metadata": {
    "papermill": {
     "duration": 0.013929,
     "end_time": "2022-06-06T17:53:09.191308",
     "exception": false,
     "start_time": "2022-06-06T17:53:09.177379",
     "status": "completed"
    },
    "tags": []
   },
   "source": [
    "**08 - Scholarship: True of False . Observation, this is a broad topic, consider reading this article https://en.wikipedia.org/wiki/Bolsa_Fam%C3%ADlia**"
   ]
  },
  {
   "cell_type": "markdown",
   "id": "c95b3b6c",
   "metadata": {
    "papermill": {
     "duration": 0.013858,
     "end_time": "2022-06-06T17:53:09.219382",
     "exception": false,
     "start_time": "2022-06-06T17:53:09.205524",
     "status": "completed"
    },
    "tags": []
   },
   "source": [
    "**09 - Hipertension: True or False**"
   ]
  },
  {
   "cell_type": "markdown",
   "id": "60abfcb1",
   "metadata": {
    "papermill": {
     "duration": 0.017018,
     "end_time": "2022-06-06T17:53:09.250587",
     "exception": false,
     "start_time": "2022-06-06T17:53:09.233569",
     "status": "completed"
    },
    "tags": []
   },
   "source": [
    "**10 - Diabetes: True or False**"
   ]
  },
  {
   "cell_type": "markdown",
   "id": "be2df5fa",
   "metadata": {
    "papermill": {
     "duration": 0.020874,
     "end_time": "2022-06-06T17:53:09.295037",
     "exception": false,
     "start_time": "2022-06-06T17:53:09.274163",
     "status": "completed"
    },
    "tags": []
   },
   "source": [
    "**11 - Alcoholism: True or False**"
   ]
  },
  {
   "cell_type": "markdown",
   "id": "2687a905",
   "metadata": {
    "papermill": {
     "duration": 0.013817,
     "end_time": "2022-06-06T17:53:09.323175",
     "exception": false,
     "start_time": "2022-06-06T17:53:09.309358",
     "status": "completed"
    },
    "tags": []
   },
   "source": [
    "**12 - Handcap: True or False**"
   ]
  },
  {
   "cell_type": "markdown",
   "id": "59a1bbe7",
   "metadata": {
    "papermill": {
     "duration": 0.016794,
     "end_time": "2022-06-06T17:53:09.359058",
     "exception": false,
     "start_time": "2022-06-06T17:53:09.342264",
     "status": "completed"
    },
    "tags": []
   },
   "source": [
    "**13 - SMS_received: 1 or more messages sent to the patient.**"
   ]
  },
  {
   "cell_type": "markdown",
   "id": "db763049",
   "metadata": {
    "papermill": {
     "duration": 0.025,
     "end_time": "2022-06-06T17:53:09.398813",
     "exception": false,
     "start_time": "2022-06-06T17:53:09.373813",
     "status": "completed"
    },
    "tags": []
   },
   "source": [
    "**14 - No-show: True or False.**"
   ]
  },
  {
   "cell_type": "markdown",
   "id": "f94ff30e",
   "metadata": {
    "papermill": {
     "duration": 0.013714,
     "end_time": "2022-06-06T17:53:09.426842",
     "exception": false,
     "start_time": "2022-06-06T17:53:09.413128",
     "status": "completed"
    },
    "tags": []
   },
   "source": [
    "### The aim is answering the following questions:"
   ]
  },
  {
   "cell_type": "markdown",
   "id": "7dfedcc7",
   "metadata": {
    "papermill": {
     "duration": 0.013814,
     "end_time": "2022-06-06T17:53:09.454628",
     "exception": false,
     "start_time": "2022-06-06T17:53:09.440814",
     "status": "completed"
    },
    "tags": []
   },
   "source": [
    "**Q1: What is the impact of the existence of handicap with different degrees and the attendence (No-show)?**"
   ]
  },
  {
   "cell_type": "markdown",
   "id": "e1268135",
   "metadata": {
    "papermill": {
     "duration": 0.01418,
     "end_time": "2022-06-06T17:53:09.483022",
     "exception": false,
     "start_time": "2022-06-06T17:53:09.468842",
     "status": "completed"
    },
    "tags": []
   },
   "source": [
    "**Q2: Is there a correlation between the age of patients and the attendance?**"
   ]
  },
  {
   "cell_type": "markdown",
   "id": "76a2d05f",
   "metadata": {
    "papermill": {
     "duration": 0.01354,
     "end_time": "2022-06-06T17:53:09.510442",
     "exception": false,
     "start_time": "2022-06-06T17:53:09.496902",
     "status": "completed"
    },
    "tags": []
   },
   "source": [
    "**Q3: Is alcoholism effect the attendence rate?**"
   ]
  },
  {
   "cell_type": "markdown",
   "id": "c7fb15f5",
   "metadata": {
    "papermill": {
     "duration": 0.013431,
     "end_time": "2022-06-06T17:53:09.537629",
     "exception": false,
     "start_time": "2022-06-06T17:53:09.524198",
     "status": "completed"
    },
    "tags": []
   },
   "source": [
    "**Q4: What is the highest five neighborhoods according to the non-attended rate?**"
   ]
  },
  {
   "cell_type": "code",
   "execution_count": 1,
   "id": "38aaf98a",
   "metadata": {
    "execution": {
     "iopub.execute_input": "2022-06-06T17:53:09.567076Z",
     "iopub.status.busy": "2022-06-06T17:53:09.566529Z",
     "iopub.status.idle": "2022-06-06T17:53:10.648120Z",
     "shell.execute_reply": "2022-06-06T17:53:10.647170Z"
    },
    "papermill": {
     "duration": 1.099071,
     "end_time": "2022-06-06T17:53:10.650415",
     "exception": false,
     "start_time": "2022-06-06T17:53:09.551344",
     "status": "completed"
    },
    "tags": []
   },
   "outputs": [],
   "source": [
    "# Import libraries\n",
    "\n",
    "import pandas as pd \n",
    "import matplotlib.pyplot as plt\n",
    "import numpy as np\n",
    "import seaborn as sns"
   ]
  },
  {
   "cell_type": "markdown",
   "id": "8cb9eaa6",
   "metadata": {
    "papermill": {
     "duration": 0.013268,
     "end_time": "2022-06-06T17:53:10.677690",
     "exception": false,
     "start_time": "2022-06-06T17:53:10.664422",
     "status": "completed"
    },
    "tags": []
   },
   "source": [
    "<a id='wrangling'></a>\n",
    "## Data Wrangling\n",
    "\n",
    "### General Properties"
   ]
  },
  {
   "cell_type": "code",
   "execution_count": 2,
   "id": "06ff637a",
   "metadata": {
    "execution": {
     "iopub.execute_input": "2022-06-06T17:53:10.706538Z",
     "iopub.status.busy": "2022-06-06T17:53:10.705762Z",
     "iopub.status.idle": "2022-06-06T17:53:11.047745Z",
     "shell.execute_reply": "2022-06-06T17:53:11.046966Z"
    },
    "papermill": {
     "duration": 0.358715,
     "end_time": "2022-06-06T17:53:11.049834",
     "exception": false,
     "start_time": "2022-06-06T17:53:10.691119",
     "status": "completed"
    },
    "tags": []
   },
   "outputs": [],
   "source": [
    "# Load dataset\n",
    "\n",
    "df = pd.read_csv('../input/noshowappointments/KaggleV2-May-2016.csv')"
   ]
  },
  {
   "cell_type": "code",
   "execution_count": 3,
   "id": "92dcd780",
   "metadata": {
    "execution": {
     "iopub.execute_input": "2022-06-06T17:53:11.078737Z",
     "iopub.status.busy": "2022-06-06T17:53:11.078370Z",
     "iopub.status.idle": "2022-06-06T17:53:11.100776Z",
     "shell.execute_reply": "2022-06-06T17:53:11.099830Z"
    },
    "papermill": {
     "duration": 0.039593,
     "end_time": "2022-06-06T17:53:11.103101",
     "exception": false,
     "start_time": "2022-06-06T17:53:11.063508",
     "status": "completed"
    },
    "tags": []
   },
   "outputs": [
    {
     "data": {
      "text/html": [
       "<div>\n",
       "<style scoped>\n",
       "    .dataframe tbody tr th:only-of-type {\n",
       "        vertical-align: middle;\n",
       "    }\n",
       "\n",
       "    .dataframe tbody tr th {\n",
       "        vertical-align: top;\n",
       "    }\n",
       "\n",
       "    .dataframe thead th {\n",
       "        text-align: right;\n",
       "    }\n",
       "</style>\n",
       "<table border=\"1\" class=\"dataframe\">\n",
       "  <thead>\n",
       "    <tr style=\"text-align: right;\">\n",
       "      <th></th>\n",
       "      <th>PatientId</th>\n",
       "      <th>AppointmentID</th>\n",
       "      <th>Gender</th>\n",
       "      <th>ScheduledDay</th>\n",
       "      <th>AppointmentDay</th>\n",
       "      <th>Age</th>\n",
       "      <th>Neighbourhood</th>\n",
       "      <th>Scholarship</th>\n",
       "      <th>Hipertension</th>\n",
       "      <th>Diabetes</th>\n",
       "      <th>Alcoholism</th>\n",
       "      <th>Handcap</th>\n",
       "      <th>SMS_received</th>\n",
       "      <th>No-show</th>\n",
       "    </tr>\n",
       "  </thead>\n",
       "  <tbody>\n",
       "    <tr>\n",
       "      <th>0</th>\n",
       "      <td>2.987250e+13</td>\n",
       "      <td>5642903</td>\n",
       "      <td>F</td>\n",
       "      <td>2016-04-29T18:38:08Z</td>\n",
       "      <td>2016-04-29T00:00:00Z</td>\n",
       "      <td>62</td>\n",
       "      <td>JARDIM DA PENHA</td>\n",
       "      <td>0</td>\n",
       "      <td>1</td>\n",
       "      <td>0</td>\n",
       "      <td>0</td>\n",
       "      <td>0</td>\n",
       "      <td>0</td>\n",
       "      <td>No</td>\n",
       "    </tr>\n",
       "    <tr>\n",
       "      <th>1</th>\n",
       "      <td>5.589978e+14</td>\n",
       "      <td>5642503</td>\n",
       "      <td>M</td>\n",
       "      <td>2016-04-29T16:08:27Z</td>\n",
       "      <td>2016-04-29T00:00:00Z</td>\n",
       "      <td>56</td>\n",
       "      <td>JARDIM DA PENHA</td>\n",
       "      <td>0</td>\n",
       "      <td>0</td>\n",
       "      <td>0</td>\n",
       "      <td>0</td>\n",
       "      <td>0</td>\n",
       "      <td>0</td>\n",
       "      <td>No</td>\n",
       "    </tr>\n",
       "    <tr>\n",
       "      <th>2</th>\n",
       "      <td>4.262962e+12</td>\n",
       "      <td>5642549</td>\n",
       "      <td>F</td>\n",
       "      <td>2016-04-29T16:19:04Z</td>\n",
       "      <td>2016-04-29T00:00:00Z</td>\n",
       "      <td>62</td>\n",
       "      <td>MATA DA PRAIA</td>\n",
       "      <td>0</td>\n",
       "      <td>0</td>\n",
       "      <td>0</td>\n",
       "      <td>0</td>\n",
       "      <td>0</td>\n",
       "      <td>0</td>\n",
       "      <td>No</td>\n",
       "    </tr>\n",
       "    <tr>\n",
       "      <th>3</th>\n",
       "      <td>8.679512e+11</td>\n",
       "      <td>5642828</td>\n",
       "      <td>F</td>\n",
       "      <td>2016-04-29T17:29:31Z</td>\n",
       "      <td>2016-04-29T00:00:00Z</td>\n",
       "      <td>8</td>\n",
       "      <td>PONTAL DE CAMBURI</td>\n",
       "      <td>0</td>\n",
       "      <td>0</td>\n",
       "      <td>0</td>\n",
       "      <td>0</td>\n",
       "      <td>0</td>\n",
       "      <td>0</td>\n",
       "      <td>No</td>\n",
       "    </tr>\n",
       "    <tr>\n",
       "      <th>4</th>\n",
       "      <td>8.841186e+12</td>\n",
       "      <td>5642494</td>\n",
       "      <td>F</td>\n",
       "      <td>2016-04-29T16:07:23Z</td>\n",
       "      <td>2016-04-29T00:00:00Z</td>\n",
       "      <td>56</td>\n",
       "      <td>JARDIM DA PENHA</td>\n",
       "      <td>0</td>\n",
       "      <td>1</td>\n",
       "      <td>1</td>\n",
       "      <td>0</td>\n",
       "      <td>0</td>\n",
       "      <td>0</td>\n",
       "      <td>No</td>\n",
       "    </tr>\n",
       "  </tbody>\n",
       "</table>\n",
       "</div>"
      ],
      "text/plain": [
       "      PatientId  AppointmentID Gender          ScheduledDay  \\\n",
       "0  2.987250e+13        5642903      F  2016-04-29T18:38:08Z   \n",
       "1  5.589978e+14        5642503      M  2016-04-29T16:08:27Z   \n",
       "2  4.262962e+12        5642549      F  2016-04-29T16:19:04Z   \n",
       "3  8.679512e+11        5642828      F  2016-04-29T17:29:31Z   \n",
       "4  8.841186e+12        5642494      F  2016-04-29T16:07:23Z   \n",
       "\n",
       "         AppointmentDay  Age      Neighbourhood  Scholarship  Hipertension  \\\n",
       "0  2016-04-29T00:00:00Z   62    JARDIM DA PENHA            0             1   \n",
       "1  2016-04-29T00:00:00Z   56    JARDIM DA PENHA            0             0   \n",
       "2  2016-04-29T00:00:00Z   62      MATA DA PRAIA            0             0   \n",
       "3  2016-04-29T00:00:00Z    8  PONTAL DE CAMBURI            0             0   \n",
       "4  2016-04-29T00:00:00Z   56    JARDIM DA PENHA            0             1   \n",
       "\n",
       "   Diabetes  Alcoholism  Handcap  SMS_received No-show  \n",
       "0         0           0        0             0      No  \n",
       "1         0           0        0             0      No  \n",
       "2         0           0        0             0      No  \n",
       "3         0           0        0             0      No  \n",
       "4         1           0        0             0      No  "
      ]
     },
     "execution_count": 3,
     "metadata": {},
     "output_type": "execute_result"
    }
   ],
   "source": [
    "# See the head of dataframe and columns\n",
    "\n",
    "df.head()"
   ]
  },
  {
   "cell_type": "code",
   "execution_count": 4,
   "id": "bf5abc92",
   "metadata": {
    "execution": {
     "iopub.execute_input": "2022-06-06T17:53:11.133053Z",
     "iopub.status.busy": "2022-06-06T17:53:11.132296Z",
     "iopub.status.idle": "2022-06-06T17:53:11.138010Z",
     "shell.execute_reply": "2022-06-06T17:53:11.137201Z"
    },
    "papermill": {
     "duration": 0.022557,
     "end_time": "2022-06-06T17:53:11.139731",
     "exception": false,
     "start_time": "2022-06-06T17:53:11.117174",
     "status": "completed"
    },
    "tags": []
   },
   "outputs": [
    {
     "data": {
      "text/plain": [
       "(110527, 14)"
      ]
     },
     "execution_count": 4,
     "metadata": {},
     "output_type": "execute_result"
    }
   ],
   "source": [
    "# Check the number of rows and columns\n",
    "\n",
    "df.shape"
   ]
  },
  {
   "cell_type": "markdown",
   "id": "36a72926",
   "metadata": {
    "papermill": {
     "duration": 0.013873,
     "end_time": "2022-06-06T17:53:11.167579",
     "exception": false,
     "start_time": "2022-06-06T17:53:11.153706",
     "status": "completed"
    },
    "tags": []
   },
   "source": [
    "**There is a 110527 case with 14 characteristics (column).**"
   ]
  },
  {
   "cell_type": "code",
   "execution_count": 5,
   "id": "0076b585",
   "metadata": {
    "execution": {
     "iopub.execute_input": "2022-06-06T17:53:11.197477Z",
     "iopub.status.busy": "2022-06-06T17:53:11.196824Z",
     "iopub.status.idle": "2022-06-06T17:53:11.244823Z",
     "shell.execute_reply": "2022-06-06T17:53:11.243791Z"
    },
    "papermill": {
     "duration": 0.065272,
     "end_time": "2022-06-06T17:53:11.246852",
     "exception": false,
     "start_time": "2022-06-06T17:53:11.181580",
     "status": "completed"
    },
    "tags": []
   },
   "outputs": [
    {
     "name": "stdout",
     "output_type": "stream",
     "text": [
      "<class 'pandas.core.frame.DataFrame'>\n",
      "RangeIndex: 110527 entries, 0 to 110526\n",
      "Data columns (total 14 columns):\n",
      " #   Column          Non-Null Count   Dtype  \n",
      "---  ------          --------------   -----  \n",
      " 0   PatientId       110527 non-null  float64\n",
      " 1   AppointmentID   110527 non-null  int64  \n",
      " 2   Gender          110527 non-null  object \n",
      " 3   ScheduledDay    110527 non-null  object \n",
      " 4   AppointmentDay  110527 non-null  object \n",
      " 5   Age             110527 non-null  int64  \n",
      " 6   Neighbourhood   110527 non-null  object \n",
      " 7   Scholarship     110527 non-null  int64  \n",
      " 8   Hipertension    110527 non-null  int64  \n",
      " 9   Diabetes        110527 non-null  int64  \n",
      " 10  Alcoholism      110527 non-null  int64  \n",
      " 11  Handcap         110527 non-null  int64  \n",
      " 12  SMS_received    110527 non-null  int64  \n",
      " 13  No-show         110527 non-null  object \n",
      "dtypes: float64(1), int64(8), object(5)\n",
      "memory usage: 11.8+ MB\n"
     ]
    }
   ],
   "source": [
    "df.info()"
   ]
  },
  {
   "cell_type": "code",
   "execution_count": 6,
   "id": "3bf2ec8b",
   "metadata": {
    "execution": {
     "iopub.execute_input": "2022-06-06T17:53:11.276945Z",
     "iopub.status.busy": "2022-06-06T17:53:11.276345Z",
     "iopub.status.idle": "2022-06-06T17:53:11.282466Z",
     "shell.execute_reply": "2022-06-06T17:53:11.281765Z"
    },
    "papermill": {
     "duration": 0.023008,
     "end_time": "2022-06-06T17:53:11.284184",
     "exception": false,
     "start_time": "2022-06-06T17:53:11.261176",
     "status": "completed"
    },
    "tags": []
   },
   "outputs": [
    {
     "data": {
      "text/plain": [
       "PatientId         float64\n",
       "AppointmentID       int64\n",
       "Gender             object\n",
       "ScheduledDay       object\n",
       "AppointmentDay     object\n",
       "Age                 int64\n",
       "Neighbourhood      object\n",
       "Scholarship         int64\n",
       "Hipertension        int64\n",
       "Diabetes            int64\n",
       "Alcoholism          int64\n",
       "Handcap             int64\n",
       "SMS_received        int64\n",
       "No-show            object\n",
       "dtype: object"
      ]
     },
     "execution_count": 6,
     "metadata": {},
     "output_type": "execute_result"
    }
   ],
   "source": [
    "# Check the types of each columns\n",
    "\n",
    "df.dtypes"
   ]
  },
  {
   "cell_type": "code",
   "execution_count": 7,
   "id": "7726b889",
   "metadata": {
    "execution": {
     "iopub.execute_input": "2022-06-06T17:53:11.314489Z",
     "iopub.status.busy": "2022-06-06T17:53:11.313870Z",
     "iopub.status.idle": "2022-06-06T17:53:11.346976Z",
     "shell.execute_reply": "2022-06-06T17:53:11.345969Z"
    },
    "papermill": {
     "duration": 0.050373,
     "end_time": "2022-06-06T17:53:11.348948",
     "exception": false,
     "start_time": "2022-06-06T17:53:11.298575",
     "status": "completed"
    },
    "scrolled": true,
    "tags": []
   },
   "outputs": [
    {
     "data": {
      "text/plain": [
       "PatientId         0\n",
       "AppointmentID     0\n",
       "Gender            0\n",
       "ScheduledDay      0\n",
       "AppointmentDay    0\n",
       "Age               0\n",
       "Neighbourhood     0\n",
       "Scholarship       0\n",
       "Hipertension      0\n",
       "Diabetes          0\n",
       "Alcoholism        0\n",
       "Handcap           0\n",
       "SMS_received      0\n",
       "No-show           0\n",
       "dtype: int64"
      ]
     },
     "execution_count": 7,
     "metadata": {},
     "output_type": "execute_result"
    }
   ],
   "source": [
    "# Is there a null values\n",
    "\n",
    "df.isnull().sum()"
   ]
  },
  {
   "cell_type": "markdown",
   "id": "c63f1909",
   "metadata": {
    "papermill": {
     "duration": 0.014126,
     "end_time": "2022-06-06T17:53:11.377600",
     "exception": false,
     "start_time": "2022-06-06T17:53:11.363474",
     "status": "completed"
    },
    "tags": []
   },
   "source": [
    "**No null values in dataset.**"
   ]
  },
  {
   "cell_type": "code",
   "execution_count": 8,
   "id": "65ee7727",
   "metadata": {
    "execution": {
     "iopub.execute_input": "2022-06-06T17:53:11.408382Z",
     "iopub.status.busy": "2022-06-06T17:53:11.407710Z",
     "iopub.status.idle": "2022-06-06T17:53:11.498161Z",
     "shell.execute_reply": "2022-06-06T17:53:11.497251Z"
    },
    "papermill": {
     "duration": 0.107928,
     "end_time": "2022-06-06T17:53:11.500024",
     "exception": false,
     "start_time": "2022-06-06T17:53:11.392096",
     "status": "completed"
    },
    "tags": []
   },
   "outputs": [
    {
     "data": {
      "text/plain": [
       "0"
      ]
     },
     "execution_count": 8,
     "metadata": {},
     "output_type": "execute_result"
    }
   ],
   "source": [
    "# Is there a duplicated rows\n",
    "\n",
    "df.duplicated().sum()"
   ]
  },
  {
   "cell_type": "markdown",
   "id": "124da919",
   "metadata": {
    "papermill": {
     "duration": 0.013966,
     "end_time": "2022-06-06T17:53:11.528482",
     "exception": false,
     "start_time": "2022-06-06T17:53:11.514516",
     "status": "completed"
    },
    "tags": []
   },
   "source": [
    "**No duplicated rows in the dataset.**"
   ]
  },
  {
   "cell_type": "code",
   "execution_count": 9,
   "id": "90305974",
   "metadata": {
    "execution": {
     "iopub.execute_input": "2022-06-06T17:53:11.559065Z",
     "iopub.status.busy": "2022-06-06T17:53:11.558389Z",
     "iopub.status.idle": "2022-06-06T17:53:11.620542Z",
     "shell.execute_reply": "2022-06-06T17:53:11.619538Z"
    },
    "papermill": {
     "duration": 0.079767,
     "end_time": "2022-06-06T17:53:11.622461",
     "exception": false,
     "start_time": "2022-06-06T17:53:11.542694",
     "status": "completed"
    },
    "tags": []
   },
   "outputs": [
    {
     "data": {
      "text/html": [
       "<div>\n",
       "<style scoped>\n",
       "    .dataframe tbody tr th:only-of-type {\n",
       "        vertical-align: middle;\n",
       "    }\n",
       "\n",
       "    .dataframe tbody tr th {\n",
       "        vertical-align: top;\n",
       "    }\n",
       "\n",
       "    .dataframe thead th {\n",
       "        text-align: right;\n",
       "    }\n",
       "</style>\n",
       "<table border=\"1\" class=\"dataframe\">\n",
       "  <thead>\n",
       "    <tr style=\"text-align: right;\">\n",
       "      <th></th>\n",
       "      <th>PatientId</th>\n",
       "      <th>AppointmentID</th>\n",
       "      <th>Age</th>\n",
       "      <th>Scholarship</th>\n",
       "      <th>Hipertension</th>\n",
       "      <th>Diabetes</th>\n",
       "      <th>Alcoholism</th>\n",
       "      <th>Handcap</th>\n",
       "      <th>SMS_received</th>\n",
       "    </tr>\n",
       "  </thead>\n",
       "  <tbody>\n",
       "    <tr>\n",
       "      <th>count</th>\n",
       "      <td>1.105270e+05</td>\n",
       "      <td>1.105270e+05</td>\n",
       "      <td>110527.000000</td>\n",
       "      <td>110527.000000</td>\n",
       "      <td>110527.000000</td>\n",
       "      <td>110527.000000</td>\n",
       "      <td>110527.000000</td>\n",
       "      <td>110527.000000</td>\n",
       "      <td>110527.000000</td>\n",
       "    </tr>\n",
       "    <tr>\n",
       "      <th>mean</th>\n",
       "      <td>1.474963e+14</td>\n",
       "      <td>5.675305e+06</td>\n",
       "      <td>37.088874</td>\n",
       "      <td>0.098266</td>\n",
       "      <td>0.197246</td>\n",
       "      <td>0.071865</td>\n",
       "      <td>0.030400</td>\n",
       "      <td>0.022248</td>\n",
       "      <td>0.321026</td>\n",
       "    </tr>\n",
       "    <tr>\n",
       "      <th>std</th>\n",
       "      <td>2.560949e+14</td>\n",
       "      <td>7.129575e+04</td>\n",
       "      <td>23.110205</td>\n",
       "      <td>0.297675</td>\n",
       "      <td>0.397921</td>\n",
       "      <td>0.258265</td>\n",
       "      <td>0.171686</td>\n",
       "      <td>0.161543</td>\n",
       "      <td>0.466873</td>\n",
       "    </tr>\n",
       "    <tr>\n",
       "      <th>min</th>\n",
       "      <td>3.921784e+04</td>\n",
       "      <td>5.030230e+06</td>\n",
       "      <td>-1.000000</td>\n",
       "      <td>0.000000</td>\n",
       "      <td>0.000000</td>\n",
       "      <td>0.000000</td>\n",
       "      <td>0.000000</td>\n",
       "      <td>0.000000</td>\n",
       "      <td>0.000000</td>\n",
       "    </tr>\n",
       "    <tr>\n",
       "      <th>25%</th>\n",
       "      <td>4.172614e+12</td>\n",
       "      <td>5.640286e+06</td>\n",
       "      <td>18.000000</td>\n",
       "      <td>0.000000</td>\n",
       "      <td>0.000000</td>\n",
       "      <td>0.000000</td>\n",
       "      <td>0.000000</td>\n",
       "      <td>0.000000</td>\n",
       "      <td>0.000000</td>\n",
       "    </tr>\n",
       "    <tr>\n",
       "      <th>50%</th>\n",
       "      <td>3.173184e+13</td>\n",
       "      <td>5.680573e+06</td>\n",
       "      <td>37.000000</td>\n",
       "      <td>0.000000</td>\n",
       "      <td>0.000000</td>\n",
       "      <td>0.000000</td>\n",
       "      <td>0.000000</td>\n",
       "      <td>0.000000</td>\n",
       "      <td>0.000000</td>\n",
       "    </tr>\n",
       "    <tr>\n",
       "      <th>75%</th>\n",
       "      <td>9.439172e+13</td>\n",
       "      <td>5.725524e+06</td>\n",
       "      <td>55.000000</td>\n",
       "      <td>0.000000</td>\n",
       "      <td>0.000000</td>\n",
       "      <td>0.000000</td>\n",
       "      <td>0.000000</td>\n",
       "      <td>0.000000</td>\n",
       "      <td>1.000000</td>\n",
       "    </tr>\n",
       "    <tr>\n",
       "      <th>max</th>\n",
       "      <td>9.999816e+14</td>\n",
       "      <td>5.790484e+06</td>\n",
       "      <td>115.000000</td>\n",
       "      <td>1.000000</td>\n",
       "      <td>1.000000</td>\n",
       "      <td>1.000000</td>\n",
       "      <td>1.000000</td>\n",
       "      <td>4.000000</td>\n",
       "      <td>1.000000</td>\n",
       "    </tr>\n",
       "  </tbody>\n",
       "</table>\n",
       "</div>"
      ],
      "text/plain": [
       "          PatientId  AppointmentID            Age    Scholarship  \\\n",
       "count  1.105270e+05   1.105270e+05  110527.000000  110527.000000   \n",
       "mean   1.474963e+14   5.675305e+06      37.088874       0.098266   \n",
       "std    2.560949e+14   7.129575e+04      23.110205       0.297675   \n",
       "min    3.921784e+04   5.030230e+06      -1.000000       0.000000   \n",
       "25%    4.172614e+12   5.640286e+06      18.000000       0.000000   \n",
       "50%    3.173184e+13   5.680573e+06      37.000000       0.000000   \n",
       "75%    9.439172e+13   5.725524e+06      55.000000       0.000000   \n",
       "max    9.999816e+14   5.790484e+06     115.000000       1.000000   \n",
       "\n",
       "        Hipertension       Diabetes     Alcoholism        Handcap  \\\n",
       "count  110527.000000  110527.000000  110527.000000  110527.000000   \n",
       "mean        0.197246       0.071865       0.030400       0.022248   \n",
       "std         0.397921       0.258265       0.171686       0.161543   \n",
       "min         0.000000       0.000000       0.000000       0.000000   \n",
       "25%         0.000000       0.000000       0.000000       0.000000   \n",
       "50%         0.000000       0.000000       0.000000       0.000000   \n",
       "75%         0.000000       0.000000       0.000000       0.000000   \n",
       "max         1.000000       1.000000       1.000000       4.000000   \n",
       "\n",
       "        SMS_received  \n",
       "count  110527.000000  \n",
       "mean        0.321026  \n",
       "std         0.466873  \n",
       "min         0.000000  \n",
       "25%         0.000000  \n",
       "50%         0.000000  \n",
       "75%         1.000000  \n",
       "max         1.000000  "
      ]
     },
     "execution_count": 9,
     "metadata": {},
     "output_type": "execute_result"
    }
   ],
   "source": [
    "# General statistics properties of dataset\n",
    "\n",
    "df.describe()"
   ]
  },
  {
   "cell_type": "markdown",
   "id": "89d6920d",
   "metadata": {
    "papermill": {
     "duration": 0.014491,
     "end_time": "2022-06-06T17:53:11.651831",
     "exception": false,
     "start_time": "2022-06-06T17:53:11.637340",
     "status": "completed"
    },
    "tags": []
   },
   "source": [
    "**There is a problem: minimum value of age is negative (-1)!**"
   ]
  },
  {
   "cell_type": "markdown",
   "id": "55a41e00",
   "metadata": {
    "papermill": {
     "duration": 0.014529,
     "end_time": "2022-06-06T17:53:11.681247",
     "exception": false,
     "start_time": "2022-06-06T17:53:11.666718",
     "status": "completed"
    },
    "tags": []
   },
   "source": [
    "**Check the unique values of the handicap to see if max value 4 (or the values 0,1,4 then 4 is a typo) is normal or not!!**"
   ]
  },
  {
   "cell_type": "code",
   "execution_count": 10,
   "id": "7d4a78ab",
   "metadata": {
    "execution": {
     "iopub.execute_input": "2022-06-06T17:53:11.712307Z",
     "iopub.status.busy": "2022-06-06T17:53:11.711950Z",
     "iopub.status.idle": "2022-06-06T17:53:11.717717Z",
     "shell.execute_reply": "2022-06-06T17:53:11.717170Z"
    },
    "papermill": {
     "duration": 0.023316,
     "end_time": "2022-06-06T17:53:11.719234",
     "exception": false,
     "start_time": "2022-06-06T17:53:11.695918",
     "status": "completed"
    },
    "tags": []
   },
   "outputs": [
    {
     "data": {
      "text/plain": [
       "array([0, 1, 2, 3, 4])"
      ]
     },
     "execution_count": 10,
     "metadata": {},
     "output_type": "execute_result"
    }
   ],
   "source": [
    "df['Handcap'].unique()"
   ]
  },
  {
   "cell_type": "code",
   "execution_count": 11,
   "id": "32edef8a",
   "metadata": {
    "execution": {
     "iopub.execute_input": "2022-06-06T17:53:11.750345Z",
     "iopub.status.busy": "2022-06-06T17:53:11.749787Z",
     "iopub.status.idle": "2022-06-06T17:53:12.894134Z",
     "shell.execute_reply": "2022-06-06T17:53:12.893270Z"
    },
    "papermill": {
     "duration": 1.16204,
     "end_time": "2022-06-06T17:53:12.896027",
     "exception": false,
     "start_time": "2022-06-06T17:53:11.733987",
     "status": "completed"
    },
    "tags": []
   },
   "outputs": [
    {
     "data": {
      "image/png": "[encoded data removed]",
      "text/plain": [
       "<Figure size 1080x864 with 9 Axes>"
      ]
     },
     "metadata": {
      "needs_background": "light"
     },
     "output_type": "display_data"
    }
   ],
   "source": [
    "# A quick look at the distribution of data in each column\n",
    "\n",
    "df.hist(figsize=(15,12));"
   ]
  },
  {
   "cell_type": "markdown",
   "id": "e0885038",
   "metadata": {
    "papermill": {
     "duration": 0.01584,
     "end_time": "2022-06-06T17:53:12.927789",
     "exception": false,
     "start_time": "2022-06-06T17:53:12.911949",
     "status": "completed"
    },
    "tags": []
   },
   "source": [
    "### Data Cleaning: Fix The Issues Found In The Dataset"
   ]
  },
  {
   "cell_type": "markdown",
   "id": "70546c97",
   "metadata": {
    "papermill": {
     "duration": 0.01544,
     "end_time": "2022-06-06T17:53:12.959275",
     "exception": false,
     "start_time": "2022-06-06T17:53:12.943835",
     "status": "completed"
    },
    "tags": []
   },
   "source": [
    "**-Solve the problem of minimum value of age**"
   ]
  },
  {
   "cell_type": "code",
   "execution_count": 12,
   "id": "f606278d",
   "metadata": {
    "execution": {
     "iopub.execute_input": "2022-06-06T17:53:12.992702Z",
     "iopub.status.busy": "2022-06-06T17:53:12.992050Z",
     "iopub.status.idle": "2022-06-06T17:53:13.009208Z",
     "shell.execute_reply": "2022-06-06T17:53:13.008327Z"
    },
    "papermill": {
     "duration": 0.035929,
     "end_time": "2022-06-06T17:53:13.011020",
     "exception": false,
     "start_time": "2022-06-06T17:53:12.975091",
     "status": "completed"
    },
    "tags": []
   },
   "outputs": [
    {
     "data": {
      "text/html": [
       "<div>\n",
       "<style scoped>\n",
       "    .dataframe tbody tr th:only-of-type {\n",
       "        vertical-align: middle;\n",
       "    }\n",
       "\n",
       "    .dataframe tbody tr th {\n",
       "        vertical-align: top;\n",
       "    }\n",
       "\n",
       "    .dataframe thead th {\n",
       "        text-align: right;\n",
       "    }\n",
       "</style>\n",
       "<table border=\"1\" class=\"dataframe\">\n",
       "  <thead>\n",
       "    <tr style=\"text-align: right;\">\n",
       "      <th></th>\n",
       "      <th>PatientId</th>\n",
       "      <th>AppointmentID</th>\n",
       "      <th>Gender</th>\n",
       "      <th>ScheduledDay</th>\n",
       "      <th>AppointmentDay</th>\n",
       "      <th>Age</th>\n",
       "      <th>Neighbourhood</th>\n",
       "      <th>Scholarship</th>\n",
       "      <th>Hipertension</th>\n",
       "      <th>Diabetes</th>\n",
       "      <th>Alcoholism</th>\n",
       "      <th>Handcap</th>\n",
       "      <th>SMS_received</th>\n",
       "      <th>No-show</th>\n",
       "    </tr>\n",
       "  </thead>\n",
       "  <tbody>\n",
       "    <tr>\n",
       "      <th>99832</th>\n",
       "      <td>4.659432e+14</td>\n",
       "      <td>5775010</td>\n",
       "      <td>F</td>\n",
       "      <td>2016-06-06T08:58:13Z</td>\n",
       "      <td>2016-06-06T00:00:00Z</td>\n",
       "      <td>-1</td>\n",
       "      <td>ROMÃO</td>\n",
       "      <td>0</td>\n",
       "      <td>0</td>\n",
       "      <td>0</td>\n",
       "      <td>0</td>\n",
       "      <td>0</td>\n",
       "      <td>0</td>\n",
       "      <td>No</td>\n",
       "    </tr>\n",
       "  </tbody>\n",
       "</table>\n",
       "</div>"
      ],
      "text/plain": [
       "          PatientId  AppointmentID Gender          ScheduledDay  \\\n",
       "99832  4.659432e+14        5775010      F  2016-06-06T08:58:13Z   \n",
       "\n",
       "             AppointmentDay  Age Neighbourhood  Scholarship  Hipertension  \\\n",
       "99832  2016-06-06T00:00:00Z   -1         ROMÃO            0             0   \n",
       "\n",
       "       Diabetes  Alcoholism  Handcap  SMS_received No-show  \n",
       "99832         0           0        0             0      No  "
      ]
     },
     "execution_count": 12,
     "metadata": {},
     "output_type": "execute_result"
    }
   ],
   "source": [
    "df.query('Age == -1')"
   ]
  },
  {
   "cell_type": "markdown",
   "id": "f078da75",
   "metadata": {
    "papermill": {
     "duration": 0.015455,
     "end_time": "2022-06-06T17:53:13.042328",
     "exception": false,
     "start_time": "2022-06-06T17:53:13.026873",
     "status": "completed"
    },
    "tags": []
   },
   "source": [
    "**this row should be removed,**"
   ]
  },
  {
   "cell_type": "code",
   "execution_count": 13,
   "id": "6d43f184",
   "metadata": {
    "execution": {
     "iopub.execute_input": "2022-06-06T17:53:13.076062Z",
     "iopub.status.busy": "2022-06-06T17:53:13.075143Z",
     "iopub.status.idle": "2022-06-06T17:53:13.095867Z",
     "shell.execute_reply": "2022-06-06T17:53:13.095070Z"
    },
    "papermill": {
     "duration": 0.039602,
     "end_time": "2022-06-06T17:53:13.097797",
     "exception": false,
     "start_time": "2022-06-06T17:53:13.058195",
     "status": "completed"
    },
    "tags": []
   },
   "outputs": [],
   "source": [
    "index_of_bad_age = df.query('Age == -1').index[0]\n",
    "df.drop(index_of_bad_age, inplace= True)"
   ]
  },
  {
   "cell_type": "markdown",
   "id": "dc210d64",
   "metadata": {
    "papermill": {
     "duration": 0.015526,
     "end_time": "2022-06-06T17:53:13.129308",
     "exception": false,
     "start_time": "2022-06-06T17:53:13.113782",
     "status": "completed"
    },
    "tags": []
   },
   "source": [
    "**check the numbers of rows**"
   ]
  },
  {
   "cell_type": "code",
   "execution_count": 14,
   "id": "b1f08276",
   "metadata": {
    "execution": {
     "iopub.execute_input": "2022-06-06T17:53:13.163226Z",
     "iopub.status.busy": "2022-06-06T17:53:13.162619Z",
     "iopub.status.idle": "2022-06-06T17:53:13.167203Z",
     "shell.execute_reply": "2022-06-06T17:53:13.166651Z"
    },
    "papermill": {
     "duration": 0.023427,
     "end_time": "2022-06-06T17:53:13.168721",
     "exception": false,
     "start_time": "2022-06-06T17:53:13.145294",
     "status": "completed"
    },
    "tags": []
   },
   "outputs": [
    {
     "data": {
      "text/plain": [
       "(110526, 14)"
      ]
     },
     "execution_count": 14,
     "metadata": {},
     "output_type": "execute_result"
    }
   ],
   "source": [
    "df.shape"
   ]
  },
  {
   "cell_type": "markdown",
   "id": "068fbc5d",
   "metadata": {
    "papermill": {
     "duration": 0.015811,
     "end_time": "2022-06-06T17:53:13.200447",
     "exception": false,
     "start_time": "2022-06-06T17:53:13.184636",
     "status": "completed"
    },
    "tags": []
   },
   "source": [
    "**number of rows decreased by one.**"
   ]
  },
  {
   "cell_type": "markdown",
   "id": "75d7b87c",
   "metadata": {
    "papermill": {
     "duration": 0.015556,
     "end_time": "2022-06-06T17:53:13.231928",
     "exception": false,
     "start_time": "2022-06-06T17:53:13.216372",
     "status": "completed"
    },
    "tags": []
   },
   "source": [
    "<a id='eda'></a>\n",
    "## Exploratory Data Analysis"
   ]
  },
  {
   "cell_type": "markdown",
   "id": "e489d915",
   "metadata": {
    "papermill": {
     "duration": 0.015701,
     "end_time": "2022-06-06T17:53:13.263653",
     "exception": false,
     "start_time": "2022-06-06T17:53:13.247952",
     "status": "completed"
    },
    "tags": []
   },
   "source": [
    "**Note that 'No' mean the patient attended and 'Yes' mean not attended**"
   ]
  },
  {
   "cell_type": "markdown",
   "id": "4c429ed4",
   "metadata": {
    "papermill": {
     "duration": 0.015574,
     "end_time": "2022-06-06T17:53:13.295148",
     "exception": false,
     "start_time": "2022-06-06T17:53:13.279574",
     "status": "completed"
    },
    "tags": []
   },
   "source": [
    "**The General statistics of data**"
   ]
  },
  {
   "cell_type": "markdown",
   "id": "fc0fe69f",
   "metadata": {
    "papermill": {
     "duration": 0.015606,
     "end_time": "2022-06-06T17:53:13.326591",
     "exception": false,
     "start_time": "2022-06-06T17:53:13.310985",
     "status": "completed"
    },
    "tags": []
   },
   "source": [
    "### Q1: What is the impact of the existence of handicap with different degrees and the attendence (No-show)?"
   ]
  },
  {
   "cell_type": "markdown",
   "id": "abb703b5",
   "metadata": {
    "papermill": {
     "duration": 0.015686,
     "end_time": "2022-06-06T17:53:13.358311",
     "exception": false,
     "start_time": "2022-06-06T17:53:13.342625",
     "status": "completed"
    },
    "tags": []
   },
   "source": [
    "**I will investigate the proportion values of no attendance to the total number of patients for each degree of handcap from 0 to 4,**"
   ]
  },
  {
   "cell_type": "markdown",
   "id": "d9ed3061",
   "metadata": {
    "papermill": {
     "duration": 0.015703,
     "end_time": "2022-06-06T17:53:13.389909",
     "exception": false,
     "start_time": "2022-06-06T17:53:13.374206",
     "status": "completed"
    },
    "tags": []
   },
   "source": [
    "**- compute the proportion values: divide the number of non attended cases over the total number of cases for each handicap degree**"
   ]
  },
  {
   "cell_type": "code",
   "execution_count": 15,
   "id": "970c14e3",
   "metadata": {
    "execution": {
     "iopub.execute_input": "2022-06-06T17:53:13.423462Z",
     "iopub.status.busy": "2022-06-06T17:53:13.422849Z",
     "iopub.status.idle": "2022-06-06T17:53:13.446606Z",
     "shell.execute_reply": "2022-06-06T17:53:13.445977Z"
    },
    "papermill": {
     "duration": 0.042424,
     "end_time": "2022-06-06T17:53:13.448261",
     "exception": false,
     "start_time": "2022-06-06T17:53:13.405837",
     "status": "completed"
    },
    "tags": []
   },
   "outputs": [
    {
     "data": {
      "text/plain": [
       "[108285, 2042, 183, 13, 3]"
      ]
     },
     "execution_count": 15,
     "metadata": {},
     "output_type": "execute_result"
    }
   ],
   "source": [
    "# Total number of cases for each type of handicap\n",
    "\n",
    "total_cases_handicap = list()\n",
    "for i in range(5):\n",
    "    total_cases_handicap.append(df[df['Handcap']==i].shape[0])\n",
    "total_cases_handicap"
   ]
  },
  {
   "cell_type": "code",
   "execution_count": 16,
   "id": "bf859183",
   "metadata": {
    "execution": {
     "iopub.execute_input": "2022-06-06T17:53:13.482022Z",
     "iopub.status.busy": "2022-06-06T17:53:13.481414Z",
     "iopub.status.idle": "2022-06-06T17:53:13.553602Z",
     "shell.execute_reply": "2022-06-06T17:53:13.552669Z"
    },
    "papermill": {
     "duration": 0.091351,
     "end_time": "2022-06-06T17:53:13.555515",
     "exception": false,
     "start_time": "2022-06-06T17:53:13.464164",
     "status": "completed"
    },
    "tags": []
   },
   "outputs": [
    {
     "name": "stderr",
     "output_type": "stream",
     "text": [
      "/opt/conda/lib/python3.7/site-packages/ipykernel_launcher.py:5: UserWarning: Boolean Series key will be reindexed to match DataFrame index.\n",
      "  \"\"\"\n"
     ]
    }
   ],
   "source": [
    "# Number of not attended cases for each handicap degree\n",
    "\n",
    "handicap_number_not_atten = list()\n",
    "for i in range(5):\n",
    "    handicap_number_not_atten.append(df[df['No-show'] == 'Yes'][df['Handcap'] == i].shape[0])\n"
   ]
  },
  {
   "cell_type": "code",
   "execution_count": 17,
   "id": "0dbc1787",
   "metadata": {
    "execution": {
     "iopub.execute_input": "2022-06-06T17:53:13.589588Z",
     "iopub.status.busy": "2022-06-06T17:53:13.589053Z",
     "iopub.status.idle": "2022-06-06T17:53:13.592911Z",
     "shell.execute_reply": "2022-06-06T17:53:13.592289Z"
    },
    "papermill": {
     "duration": 0.022895,
     "end_time": "2022-06-06T17:53:13.594444",
     "exception": false,
     "start_time": "2022-06-06T17:53:13.571549",
     "status": "completed"
    },
    "tags": []
   },
   "outputs": [],
   "source": [
    "# Compute proportion values by dividing number of non attended cases over the total number of cases \n",
    "#for each handicap degree\n",
    "\n",
    "relative_values = list()\n",
    "for i in range(5):\n",
    "    relative_values.append(handicap_number_not_atten[i]/total_cases_handicap[i])\n"
   ]
  },
  {
   "cell_type": "markdown",
   "id": "78547c57",
   "metadata": {
    "papermill": {
     "duration": 0.015638,
     "end_time": "2022-06-06T17:53:13.626173",
     "exception": false,
     "start_time": "2022-06-06T17:53:13.610535",
     "status": "completed"
    },
    "tags": []
   },
   "source": [
    "**Visuallize the proportion values of non attended cases to the total number of cases for each degree of handicap**"
   ]
  },
  {
   "cell_type": "code",
   "execution_count": 18,
   "id": "78b73b76",
   "metadata": {
    "execution": {
     "iopub.execute_input": "2022-06-06T17:53:13.660529Z",
     "iopub.status.busy": "2022-06-06T17:53:13.659554Z",
     "iopub.status.idle": "2022-06-06T17:53:13.664941Z",
     "shell.execute_reply": "2022-06-06T17:53:13.664304Z"
    },
    "papermill": {
     "duration": 0.024225,
     "end_time": "2022-06-06T17:53:13.666516",
     "exception": false,
     "start_time": "2022-06-06T17:53:13.642291",
     "status": "completed"
    },
    "tags": []
   },
   "outputs": [],
   "source": [
    "# Create a function for plotting\n",
    "\n",
    "def bar_Plot_handicap(x_values, y_values):\n",
    "    # Bar plot for the studing of handicap variable, take values of x and y\n",
    "    \n",
    "    plt.bar(x_values, y_values, color = 'green')\n",
    "    plt.title('the proportion values of \"Yes\" for \"NO-show\"')\n",
    "    plt.xlabel('Degree of handicap')\n",
    "    plt.ylabel('proportion value');"
   ]
  },
  {
   "cell_type": "code",
   "execution_count": 19,
   "id": "8352ae0d",
   "metadata": {
    "execution": {
     "iopub.execute_input": "2022-06-06T17:53:13.700738Z",
     "iopub.status.busy": "2022-06-06T17:53:13.700041Z",
     "iopub.status.idle": "2022-06-06T17:53:13.882478Z",
     "shell.execute_reply": "2022-06-06T17:53:13.881492Z"
    },
    "papermill": {
     "duration": 0.202293,
     "end_time": "2022-06-06T17:53:13.884996",
     "exception": false,
     "start_time": "2022-06-06T17:53:13.682703",
     "status": "completed"
    },
    "tags": []
   },
   "outputs": [
    {
     "data": {
      "image/png": "[encoded data removed]",
      "text/plain": [
       "<Figure size 432x288 with 1 Axes>"
      ]
     },
     "metadata": {
      "needs_background": "light"
     },
     "output_type": "display_data"
    }
   ],
   "source": [
    "bar_Plot_handicap([0,1,2,3,4],relative_values)"
   ]
  },
  {
   "cell_type": "markdown",
   "id": "120bcff1",
   "metadata": {
    "papermill": {
     "duration": 0.029469,
     "end_time": "2022-06-06T17:53:13.931813",
     "exception": false,
     "start_time": "2022-06-06T17:53:13.902344",
     "status": "completed"
    },
    "tags": []
   },
   "source": [
    "**One can conclude that the increasing of handicap degree causes an increment the number of non attended cases: The increasing of the proportion of the number of non attended cases relative to the total number of cases in each degree of handicap.**"
   ]
  },
  {
   "cell_type": "markdown",
   "id": "4c1d21b4",
   "metadata": {
    "papermill": {
     "duration": 0.01624,
     "end_time": "2022-06-06T17:53:13.966848",
     "exception": false,
     "start_time": "2022-06-06T17:53:13.950608",
     "status": "completed"
    },
    "tags": []
   },
   "source": [
    "**Now, I will repeat the same steps but for attended cases.**"
   ]
  },
  {
   "cell_type": "code",
   "execution_count": 20,
   "id": "014eaf47",
   "metadata": {
    "execution": {
     "iopub.execute_input": "2022-06-06T17:53:14.002152Z",
     "iopub.status.busy": "2022-06-06T17:53:14.001232Z",
     "iopub.status.idle": "2022-06-06T17:53:14.116708Z",
     "shell.execute_reply": "2022-06-06T17:53:14.115804Z"
    },
    "papermill": {
     "duration": 0.135132,
     "end_time": "2022-06-06T17:53:14.118646",
     "exception": false,
     "start_time": "2022-06-06T17:53:13.983514",
     "status": "completed"
    },
    "tags": []
   },
   "outputs": [
    {
     "name": "stderr",
     "output_type": "stream",
     "text": [
      "/opt/conda/lib/python3.7/site-packages/ipykernel_launcher.py:5: UserWarning: Boolean Series key will be reindexed to match DataFrame index.\n",
      "  \"\"\"\n"
     ]
    }
   ],
   "source": [
    "# The number of attended cases for each handicap degree\n",
    "\n",
    "handicap_number_atten = list()\n",
    "for i in range(5):\n",
    "    handicap_number_atten.append(df[df['No-show'] == 'No'][df['Handcap'] == i].shape[0])"
   ]
  },
  {
   "cell_type": "code",
   "execution_count": 21,
   "id": "8e33e4c5",
   "metadata": {
    "execution": {
     "iopub.execute_input": "2022-06-06T17:53:14.153216Z",
     "iopub.status.busy": "2022-06-06T17:53:14.152848Z",
     "iopub.status.idle": "2022-06-06T17:53:14.157205Z",
     "shell.execute_reply": "2022-06-06T17:53:14.156355Z"
    },
    "papermill": {
     "duration": 0.023798,
     "end_time": "2022-06-06T17:53:14.159074",
     "exception": false,
     "start_time": "2022-06-06T17:53:14.135276",
     "status": "completed"
    },
    "tags": []
   },
   "outputs": [],
   "source": [
    "# Compute proportion values by dividing number of attending cases over the total cases for each handicap degree\n",
    "\n",
    "relative_values_2 = list()\n",
    "for i in range(5):\n",
    "    relative_values_2.append(handicap_number_atten[i]/total_cases_handicap[i])"
   ]
  },
  {
   "cell_type": "code",
   "execution_count": 22,
   "id": "2508ce98",
   "metadata": {
    "execution": {
     "iopub.execute_input": "2022-06-06T17:53:14.194625Z",
     "iopub.status.busy": "2022-06-06T17:53:14.194230Z",
     "iopub.status.idle": "2022-06-06T17:53:14.374276Z",
     "shell.execute_reply": "2022-06-06T17:53:14.373424Z"
    },
    "papermill": {
     "duration": 0.199978,
     "end_time": "2022-06-06T17:53:14.376221",
     "exception": false,
     "start_time": "2022-06-06T17:53:14.176243",
     "status": "completed"
    },
    "tags": []
   },
   "outputs": [
    {
     "data": {
      "image/png": "[encoded data removed]",
      "text/plain": [
       "<Figure size 432x288 with 1 Axes>"
      ]
     },
     "metadata": {
      "needs_background": "light"
     },
     "output_type": "display_data"
    }
   ],
   "source": [
    "bar_Plot_handicap([0,1,2,3,4], relative_values_2)"
   ]
  },
  {
   "cell_type": "markdown",
   "id": "1379733a",
   "metadata": {
    "papermill": {
     "duration": 0.016597,
     "end_time": "2022-06-06T17:53:14.409582",
     "exception": false,
     "start_time": "2022-06-06T17:53:14.392985",
     "status": "completed"
    },
    "tags": []
   },
   "source": [
    "**Increment of handicap degree cause a decrease of attending. Two visualizations give the same conclusion about the relationship between attendance and degree of handicap.** "
   ]
  },
  {
   "cell_type": "markdown",
   "id": "80fa3ba9",
   "metadata": {
    "papermill": {
     "duration": 0.016431,
     "end_time": "2022-06-06T17:53:14.442694",
     "exception": false,
     "start_time": "2022-06-06T17:53:14.426263",
     "status": "completed"
    },
    "tags": []
   },
   "source": [
    "### Q2: Is there a correlation between the age of patients and the attendance?"
   ]
  },
  {
   "cell_type": "code",
   "execution_count": 23,
   "id": "3296faf9",
   "metadata": {
    "execution": {
     "iopub.execute_input": "2022-06-06T17:53:14.477908Z",
     "iopub.status.busy": "2022-06-06T17:53:14.477257Z",
     "iopub.status.idle": "2022-06-06T17:53:14.482164Z",
     "shell.execute_reply": "2022-06-06T17:53:14.481536Z"
    },
    "papermill": {
     "duration": 0.024521,
     "end_time": "2022-06-06T17:53:14.483819",
     "exception": false,
     "start_time": "2022-06-06T17:53:14.459298",
     "status": "completed"
    },
    "tags": []
   },
   "outputs": [],
   "source": [
    "# list of unique ages\n",
    "\n",
    "unique_ages = df['Age'].unique().tolist()"
   ]
  },
  {
   "cell_type": "code",
   "execution_count": 24,
   "id": "12cd2bde",
   "metadata": {
    "execution": {
     "iopub.execute_input": "2022-06-06T17:53:14.518545Z",
     "iopub.status.busy": "2022-06-06T17:53:14.518142Z",
     "iopub.status.idle": "2022-06-06T17:53:14.631042Z",
     "shell.execute_reply": "2022-06-06T17:53:14.630410Z"
    },
    "papermill": {
     "duration": 0.132565,
     "end_time": "2022-06-06T17:53:14.633038",
     "exception": false,
     "start_time": "2022-06-06T17:53:14.500473",
     "status": "completed"
    },
    "tags": []
   },
   "outputs": [],
   "source": [
    "# Total number of cases for each unique age\n",
    "\n",
    "total_cases_age = list()\n",
    "for i in unique_ages:\n",
    "    total_cases_age.append(df[df['Age']==i].shape[0])"
   ]
  },
  {
   "cell_type": "code",
   "execution_count": 25,
   "id": "bcf581d0",
   "metadata": {
    "execution": {
     "iopub.execute_input": "2022-06-06T17:53:14.668477Z",
     "iopub.status.busy": "2022-06-06T17:53:14.667868Z",
     "iopub.status.idle": "2022-06-06T17:53:15.924796Z",
     "shell.execute_reply": "2022-06-06T17:53:15.923882Z"
    },
    "papermill": {
     "duration": 1.277275,
     "end_time": "2022-06-06T17:53:15.927092",
     "exception": false,
     "start_time": "2022-06-06T17:53:14.649817",
     "status": "completed"
    },
    "tags": []
   },
   "outputs": [
    {
     "name": "stderr",
     "output_type": "stream",
     "text": [
      "/opt/conda/lib/python3.7/site-packages/ipykernel_launcher.py:5: UserWarning: Boolean Series key will be reindexed to match DataFrame index.\n",
      "  \"\"\"\n"
     ]
    }
   ],
   "source": [
    "# Number of non attended cases for each age\n",
    "\n",
    "age_number_not_atten = list()\n",
    "for i in unique_ages:\n",
    "    age_number_not_atten.append(df[df['No-show'] == 'Yes'][df['Age'] == i].shape[0])"
   ]
  },
  {
   "cell_type": "code",
   "execution_count": 26,
   "id": "1f894901",
   "metadata": {
    "execution": {
     "iopub.execute_input": "2022-06-06T17:53:15.963770Z",
     "iopub.status.busy": "2022-06-06T17:53:15.963355Z",
     "iopub.status.idle": "2022-06-06T17:53:15.968244Z",
     "shell.execute_reply": "2022-06-06T17:53:15.967258Z"
    },
    "papermill": {
     "duration": 0.025867,
     "end_time": "2022-06-06T17:53:15.970289",
     "exception": false,
     "start_time": "2022-06-06T17:53:15.944422",
     "status": "completed"
    },
    "tags": []
   },
   "outputs": [],
   "source": [
    "# Compute proportion values by dividing number of non attended cases over the total number of cases\n",
    "# for each unique age\n",
    "\n",
    "relative_values_3 = list()\n",
    "for i in range(len(unique_ages)):\n",
    "    relative_values_3.append(age_number_not_atten[i]/total_cases_age[i])\n"
   ]
  },
  {
   "cell_type": "code",
   "execution_count": 27,
   "id": "5d512a97",
   "metadata": {
    "execution": {
     "iopub.execute_input": "2022-06-06T17:53:16.006463Z",
     "iopub.status.busy": "2022-06-06T17:53:16.005348Z",
     "iopub.status.idle": "2022-06-06T17:53:16.275108Z",
     "shell.execute_reply": "2022-06-06T17:53:16.274148Z"
    },
    "papermill": {
     "duration": 0.289644,
     "end_time": "2022-06-06T17:53:16.276985",
     "exception": false,
     "start_time": "2022-06-06T17:53:15.987341",
     "status": "completed"
    },
    "tags": []
   },
   "outputs": [
    {
     "data": {
      "image/png": "[encoded data removed]",
      "text/plain": [
       "<Figure size 864x576 with 1 Axes>"
      ]
     },
     "metadata": {
      "needs_background": "light"
     },
     "output_type": "display_data"
    }
   ],
   "source": [
    "plt.figure(figsize=(12,8))\n",
    "plt.scatter(unique_ages, relative_values_3)\n",
    "plt.title(\"Proportion values of not attending cases vs ages\")\n",
    "plt.xlabel(\"Age\")\n",
    "plt.ylabel('Proportion value')\n",
    "plt.xticks(range(0, 121, 5))\n",
    "\n",
    "# Plot the trending line\n",
    "z = np.polyfit(unique_ages, relative_values_3, 1)\n",
    "p = np.poly1d(z)\n",
    "plt.plot(unique_ages, p(unique_ages), color = 'orange');\n"
   ]
  },
  {
   "cell_type": "markdown",
   "id": "2539ef19",
   "metadata": {
    "papermill": {
     "duration": 0.016728,
     "end_time": "2022-06-06T17:53:16.310927",
     "exception": false,
     "start_time": "2022-06-06T17:53:16.294199",
     "status": "completed"
    },
    "tags": []
   },
   "source": [
    "**Investigation of age variable indicates that, by trend line of the previous figure, there is a negative correlation between age and non attended cases number.**"
   ]
  },
  {
   "cell_type": "markdown",
   "id": "04be3adf",
   "metadata": {
    "papermill": {
     "duration": 0.016382,
     "end_time": "2022-06-06T17:53:16.344138",
     "exception": false,
     "start_time": "2022-06-06T17:53:16.327756",
     "status": "completed"
    },
    "tags": []
   },
   "source": [
    "**More investigation by the following figure,**"
   ]
  },
  {
   "cell_type": "code",
   "execution_count": 28,
   "id": "a9614a5f",
   "metadata": {
    "execution": {
     "iopub.execute_input": "2022-06-06T17:53:16.379456Z",
     "iopub.status.busy": "2022-06-06T17:53:16.378702Z",
     "iopub.status.idle": "2022-06-06T17:53:16.766425Z",
     "shell.execute_reply": "2022-06-06T17:53:16.765699Z"
    },
    "papermill": {
     "duration": 0.407175,
     "end_time": "2022-06-06T17:53:16.768157",
     "exception": false,
     "start_time": "2022-06-06T17:53:16.360982",
     "status": "completed"
    },
    "tags": []
   },
   "outputs": [
    {
     "data": {
      "image/png": "[encoded data removed]",
      "text/plain": [
       "<Figure size 864x576 with 1 Axes>"
      ]
     },
     "metadata": {
      "needs_background": "light"
     },
     "output_type": "display_data"
    }
   ],
   "source": [
    "plt.figure(figsize=(12,8))\n",
    "plt.bar(unique_ages, relative_values_3)\n",
    "plt.title(\"Proportion values of not attending cases vs ages\")\n",
    "plt.xlabel(\"Age\")\n",
    "plt.ylabel('Proportion value')\n",
    "plt.xticks(range(0, 121, 5));"
   ]
  },
  {
   "cell_type": "markdown",
   "id": "6e1225e2",
   "metadata": {
    "papermill": {
     "duration": 0.016809,
     "end_time": "2022-06-06T17:53:16.802300",
     "exception": false,
     "start_time": "2022-06-06T17:53:16.785491",
     "status": "completed"
    },
    "tags": []
   },
   "source": [
    "###### By more investigation and according to age variable, we can see the two major behaviour:\n",
    "**<br>-For ages less than 25, the proportion value for non-attended cases is increasing (positive correlation with age variable).\n",
    " <br>-For ages greater than 25 to 80, the correlation becomes negative.**"
   ]
  },
  {
   "cell_type": "markdown",
   "id": "07309b00",
   "metadata": {
    "papermill": {
     "duration": 0.01682,
     "end_time": "2022-06-06T17:53:16.836148",
     "exception": false,
     "start_time": "2022-06-06T17:53:16.819328",
     "status": "completed"
    },
    "tags": []
   },
   "source": [
    "### Q3: Is alcoholism effect the attendence rate?"
   ]
  },
  {
   "cell_type": "code",
   "execution_count": 29,
   "id": "8d33667f",
   "metadata": {
    "execution": {
     "iopub.execute_input": "2022-06-06T17:53:16.872233Z",
     "iopub.status.busy": "2022-06-06T17:53:16.871598Z",
     "iopub.status.idle": "2022-06-06T17:53:16.881480Z",
     "shell.execute_reply": "2022-06-06T17:53:16.880788Z"
    },
    "papermill": {
     "duration": 0.030047,
     "end_time": "2022-06-06T17:53:16.883276",
     "exception": false,
     "start_time": "2022-06-06T17:53:16.853229",
     "status": "completed"
    },
    "tags": []
   },
   "outputs": [],
   "source": [
    "# For alcoholism patients\n",
    "# The number of 'Yes' and 'No' of 'No-show'\n",
    "\n",
    "alcohol = df.query('Alcoholism == 1')['No-show'].value_counts()"
   ]
  },
  {
   "cell_type": "code",
   "execution_count": 30,
   "id": "67fd16e9",
   "metadata": {
    "execution": {
     "iopub.execute_input": "2022-06-06T17:53:16.919451Z",
     "iopub.status.busy": "2022-06-06T17:53:16.919045Z",
     "iopub.status.idle": "2022-06-06T17:53:16.924349Z",
     "shell.execute_reply": "2022-06-06T17:53:16.923759Z"
    },
    "papermill": {
     "duration": 0.02514,
     "end_time": "2022-06-06T17:53:16.925825",
     "exception": false,
     "start_time": "2022-06-06T17:53:16.900685",
     "status": "completed"
    },
    "tags": []
   },
   "outputs": [
    {
     "data": {
      "text/plain": [
       "3.9630723781388477"
      ]
     },
     "execution_count": 30,
     "metadata": {},
     "output_type": "execute_result"
    }
   ],
   "source": [
    "# Proportion of attended cases number to non attended cases number\n",
    "\n",
    "alcohol_rate = alcohol[0]/alcohol[1]\n",
    "alcohol_rate"
   ]
  },
  {
   "cell_type": "code",
   "execution_count": 31,
   "id": "c08876df",
   "metadata": {
    "execution": {
     "iopub.execute_input": "2022-06-06T17:53:16.962009Z",
     "iopub.status.busy": "2022-06-06T17:53:16.961631Z",
     "iopub.status.idle": "2022-06-06T17:53:16.987386Z",
     "shell.execute_reply": "2022-06-06T17:53:16.986606Z"
    },
    "papermill": {
     "duration": 0.046401,
     "end_time": "2022-06-06T17:53:16.989348",
     "exception": false,
     "start_time": "2022-06-06T17:53:16.942947",
     "status": "completed"
    },
    "tags": []
   },
   "outputs": [],
   "source": [
    "# For non-alcoholism patients\n",
    "# Number of 'Yes' and 'No' of 'No-show'\n",
    "\n",
    "non_alcohol = df.query('Alcoholism == 0')['No-show'].value_counts()"
   ]
  },
  {
   "cell_type": "code",
   "execution_count": 32,
   "id": "d79983d5",
   "metadata": {
    "execution": {
     "iopub.execute_input": "2022-06-06T17:53:17.026355Z",
     "iopub.status.busy": "2022-06-06T17:53:17.025713Z",
     "iopub.status.idle": "2022-06-06T17:53:17.029509Z",
     "shell.execute_reply": "2022-06-06T17:53:17.028834Z"
    },
    "papermill": {
     "duration": 0.024341,
     "end_time": "2022-06-06T17:53:17.031223",
     "exception": false,
     "start_time": "2022-06-06T17:53:17.006882",
     "status": "completed"
    },
    "tags": []
   },
   "outputs": [],
   "source": [
    "# Proportion of attended cases number to non-attended cases number\n",
    "\n",
    "nonalcohol_rate = non_alcohol[0]/non_alcohol[1]"
   ]
  },
  {
   "cell_type": "code",
   "execution_count": 33,
   "id": "cddeb25b",
   "metadata": {
    "execution": {
     "iopub.execute_input": "2022-06-06T17:53:17.068036Z",
     "iopub.status.busy": "2022-06-06T17:53:17.067388Z",
     "iopub.status.idle": "2022-06-06T17:53:17.208354Z",
     "shell.execute_reply": "2022-06-06T17:53:17.207330Z"
    },
    "papermill": {
     "duration": 0.16242,
     "end_time": "2022-06-06T17:53:17.211266",
     "exception": false,
     "start_time": "2022-06-06T17:53:17.048846",
     "status": "completed"
    },
    "tags": []
   },
   "outputs": [
    {
     "data": {
      "image/png": "[encoded data removed]",
      "text/plain": [
       "<Figure size 720x648 with 1 Axes>"
      ]
     },
     "metadata": {
      "needs_background": "light"
     },
     "output_type": "display_data"
    }
   ],
   "source": [
    "plt.figure(figsize=(10,9))\n",
    "plt.bar(['Alcoholism', 'Non-Alcoholism'], [alcohol_rate, nonalcohol_rate], color = 'gray')\n",
    "plt.title('Rate of attending to non-attending cases for alcoholism vs non-alcoholism')\n",
    "plt.ylabel('Proportion of attending to non-attending cases')\n",
    "plt.yticks(np.arange(3.5,4.1,.1));"
   ]
  },
  {
   "cell_type": "markdown",
   "id": "14f981d3",
   "metadata": {
    "papermill": {
     "duration": 0.017536,
     "end_time": "2022-06-06T17:53:17.264876",
     "exception": false,
     "start_time": "2022-06-06T17:53:17.247340",
     "status": "completed"
    },
    "tags": []
   },
   "source": [
    "**Clearly, no effect of alcoholism on attended and non-attended rate**"
   ]
  },
  {
   "cell_type": "markdown",
   "id": "2bdf63d8",
   "metadata": {
    "papermill": {
     "duration": 0.017528,
     "end_time": "2022-06-06T17:53:17.300256",
     "exception": false,
     "start_time": "2022-06-06T17:53:17.282728",
     "status": "completed"
    },
    "tags": []
   },
   "source": [
    "### Q4: What is the highest five neighborhoods according to the non-attended rate?"
   ]
  },
  {
   "cell_type": "code",
   "execution_count": 34,
   "id": "0b38cb24",
   "metadata": {
    "execution": {
     "iopub.execute_input": "2022-06-06T17:53:17.337692Z",
     "iopub.status.busy": "2022-06-06T17:53:17.337122Z",
     "iopub.status.idle": "2022-06-06T17:53:17.348257Z",
     "shell.execute_reply": "2022-06-06T17:53:17.347633Z"
    },
    "papermill": {
     "duration": 0.031847,
     "end_time": "2022-06-06T17:53:17.350039",
     "exception": false,
     "start_time": "2022-06-06T17:53:17.318192",
     "status": "completed"
    },
    "tags": []
   },
   "outputs": [],
   "source": [
    "# List of neibourhoods names\n",
    "\n",
    "neighbour_list = df['Neighbourhood'].unique().tolist()"
   ]
  },
  {
   "cell_type": "code",
   "execution_count": 35,
   "id": "8261eb16",
   "metadata": {
    "execution": {
     "iopub.execute_input": "2022-06-06T17:53:17.387627Z",
     "iopub.status.busy": "2022-06-06T17:53:17.387069Z",
     "iopub.status.idle": "2022-06-06T17:53:18.040129Z",
     "shell.execute_reply": "2022-06-06T17:53:18.039150Z"
    },
    "papermill": {
     "duration": 0.674562,
     "end_time": "2022-06-06T17:53:18.042309",
     "exception": false,
     "start_time": "2022-06-06T17:53:17.367747",
     "status": "completed"
    },
    "tags": []
   },
   "outputs": [],
   "source": [
    "# Total number of patients in each neighborhood\n",
    "\n",
    "total_cases_neighbor = list()\n",
    "for i in neighbour_list:\n",
    "    total_cases_neighbor.append(df[df['Neighbourhood'] == i].shape[0])"
   ]
  },
  {
   "cell_type": "code",
   "execution_count": 36,
   "id": "17bf9c30",
   "metadata": {
    "execution": {
     "iopub.execute_input": "2022-06-06T17:53:18.079547Z",
     "iopub.status.busy": "2022-06-06T17:53:18.079040Z",
     "iopub.status.idle": "2022-06-06T17:53:19.292224Z",
     "shell.execute_reply": "2022-06-06T17:53:19.291502Z"
    },
    "papermill": {
     "duration": 1.234084,
     "end_time": "2022-06-06T17:53:19.294354",
     "exception": false,
     "start_time": "2022-06-06T17:53:18.060270",
     "status": "completed"
    },
    "tags": []
   },
   "outputs": [
    {
     "name": "stderr",
     "output_type": "stream",
     "text": [
      "/opt/conda/lib/python3.7/site-packages/ipykernel_launcher.py:5: UserWarning: Boolean Series key will be reindexed to match DataFrame index.\n",
      "  \"\"\"\n"
     ]
    }
   ],
   "source": [
    "# Number of non-attending patients\n",
    "\n",
    "neighbor_number_non_attending = list()\n",
    "for i in neighbour_list:\n",
    "    neighbor_number_non_attending.append(df[df['Neighbourhood'] == i][df['No-show'] == 'Yes'].shape[0])"
   ]
  },
  {
   "cell_type": "code",
   "execution_count": 37,
   "id": "d03fdad3",
   "metadata": {
    "execution": {
     "iopub.execute_input": "2022-06-06T17:53:19.335003Z",
     "iopub.status.busy": "2022-06-06T17:53:19.334019Z",
     "iopub.status.idle": "2022-06-06T17:53:19.338725Z",
     "shell.execute_reply": "2022-06-06T17:53:19.337889Z"
    },
    "papermill": {
     "duration": 0.025823,
     "end_time": "2022-06-06T17:53:19.340518",
     "exception": false,
     "start_time": "2022-06-06T17:53:19.314695",
     "status": "completed"
    },
    "tags": []
   },
   "outputs": [],
   "source": [
    "# Proportion of non attended cases to the total number of cases\n",
    "\n",
    "relative_values_4 = list()\n",
    "for i in range(len(total_cases_neighbor)):\n",
    "    relative_values_4.append(neighbor_number_non_attending[i]/total_cases_neighbor[i])"
   ]
  },
  {
   "cell_type": "code",
   "execution_count": 38,
   "id": "8e32a7da",
   "metadata": {
    "execution": {
     "iopub.execute_input": "2022-06-06T17:53:19.377619Z",
     "iopub.status.busy": "2022-06-06T17:53:19.376827Z",
     "iopub.status.idle": "2022-06-06T17:53:19.381017Z",
     "shell.execute_reply": "2022-06-06T17:53:19.380460Z"
    },
    "papermill": {
     "duration": 0.02421,
     "end_time": "2022-06-06T17:53:19.382554",
     "exception": false,
     "start_time": "2022-06-06T17:53:19.358344",
     "status": "completed"
    },
    "tags": []
   },
   "outputs": [],
   "source": [
    "# Create a dict to store proportion value for each neighborhood\n",
    "\n",
    "neighbour_dict = dict()\n",
    "j = 0\n",
    "for i in neighbour_list:\n",
    "    neighbour_dict[i] = relative_values_4[j]\n",
    "    j += 1"
   ]
  },
  {
   "cell_type": "code",
   "execution_count": 39,
   "id": "f0081064",
   "metadata": {
    "execution": {
     "iopub.execute_input": "2022-06-06T17:53:19.419367Z",
     "iopub.status.busy": "2022-06-06T17:53:19.418819Z",
     "iopub.status.idle": "2022-06-06T17:53:19.422376Z",
     "shell.execute_reply": "2022-06-06T17:53:19.421825Z"
    },
    "papermill": {
     "duration": 0.023745,
     "end_time": "2022-06-06T17:53:19.423867",
     "exception": false,
     "start_time": "2022-06-06T17:53:19.400122",
     "status": "completed"
    },
    "tags": []
   },
   "outputs": [],
   "source": [
    "# Sort proportion values in descending order\n",
    "\n",
    "relative_values_4.sort(reverse= True)\n",
    "\n",
    "# Take the highest five values\n",
    "\n",
    "highest_values = relative_values_4[:5]\n"
   ]
  },
  {
   "cell_type": "code",
   "execution_count": 40,
   "id": "87d52a95",
   "metadata": {
    "execution": {
     "iopub.execute_input": "2022-06-06T17:53:19.460575Z",
     "iopub.status.busy": "2022-06-06T17:53:19.459945Z",
     "iopub.status.idle": "2022-06-06T17:53:19.464811Z",
     "shell.execute_reply": "2022-06-06T17:53:19.463880Z"
    },
    "papermill": {
     "duration": 0.025382,
     "end_time": "2022-06-06T17:53:19.466696",
     "exception": false,
     "start_time": "2022-06-06T17:53:19.441314",
     "status": "completed"
    },
    "tags": []
   },
   "outputs": [
    {
     "name": "stdout",
     "output_type": "stream",
     "text": [
      "The highest five neighborhoods by non attended rate:\n",
      "Itararé\n",
      "Santa Clara\n",
      "Santos Dumont\n",
      "Santa Cecília\n",
      "Ilhas Oceânicas De Trindade\n"
     ]
    }
   ],
   "source": [
    "# Print the highest neighborhoods by non attended rates\n",
    "\n",
    "print('The highest five neighborhoods by non attended rate:')\n",
    "for i, j in neighbour_dict.items():\n",
    "    if j in highest_values:\n",
    "        print(i.title())\n"
   ]
  },
  {
   "cell_type": "markdown",
   "id": "a2514e30",
   "metadata": {
    "papermill": {
     "duration": 0.017467,
     "end_time": "2022-06-06T17:53:19.502002",
     "exception": false,
     "start_time": "2022-06-06T17:53:19.484535",
     "status": "completed"
    },
    "tags": []
   },
   "source": [
    "**I can suggest that may be this neighborhoods has some difficults more than other neighborhoods, like distances or transportation from neighborhood to medical clinic.**"
   ]
  },
  {
   "cell_type": "markdown",
   "id": "de8b52c5",
   "metadata": {
    "papermill": {
     "duration": 0.017236,
     "end_time": "2022-06-06T17:53:19.536757",
     "exception": false,
     "start_time": "2022-06-06T17:53:19.519521",
     "status": "completed"
    },
    "tags": []
   },
   "source": [
    "<a id='conclusions'></a>\n",
    "## Conclusions"
   ]
  },
  {
   "cell_type": "markdown",
   "id": "bfe866c8",
   "metadata": {
    "papermill": {
     "duration": 0.017284,
     "end_time": "2022-06-06T17:53:19.571600",
     "exception": false,
     "start_time": "2022-06-06T17:53:19.554316",
     "status": "completed"
    },
    "tags": []
   },
   "source": [
    "### Results:"
   ]
  },
  {
   "cell_type": "markdown",
   "id": "40153896",
   "metadata": {
    "papermill": {
     "duration": 0.017299,
     "end_time": "2022-06-06T17:53:19.606499",
     "exception": false,
     "start_time": "2022-06-06T17:53:19.589200",
     "status": "completed"
    },
    "tags": []
   },
   "source": [
    "**There is a correlation between handicap degree and the rate of attendance, high handicap degree then, low attendance rate.**"
   ]
  },
  {
   "cell_type": "markdown",
   "id": "24246b34",
   "metadata": {
    "papermill": {
     "duration": 0.017354,
     "end_time": "2022-06-06T17:53:19.641437",
     "exception": false,
     "start_time": "2022-06-06T17:53:19.624083",
     "status": "completed"
    },
    "tags": []
   },
   "source": [
    "**In general, there is a negative correlation between the age variable and the rate of attendance. By more investigation, you can note that there are two major correlation behavior; less than 25 to 80 years old, the correlation is positive and larger than 25 years old, the correlation becomes negative as the trend line.**"
   ]
  },
  {
   "cell_type": "markdown",
   "id": "0f31c9f5",
   "metadata": {
    "papermill": {
     "duration": 0.017651,
     "end_time": "2022-06-06T17:53:19.676835",
     "exception": false,
     "start_time": "2022-06-06T17:53:19.659184",
     "status": "completed"
    },
    "tags": []
   },
   "source": [
    "**Alcoholism didn't affect the rate of attendance of patients.**"
   ]
  },
  {
   "cell_type": "markdown",
   "id": "550cb827",
   "metadata": {
    "papermill": {
     "duration": 0.01736,
     "end_time": "2022-06-06T17:53:19.711717",
     "exception": false,
     "start_time": "2022-06-06T17:53:19.694357",
     "status": "completed"
    },
    "tags": []
   },
   "source": [
    "**The highest five neighborhoods according to the non-attended patients are Itararé, Santa Clara, Santos Dumont, Santa Cecília, Ilhas Oceânicas De Trindade. I can suggest that may be this neighborhoods has some difficults more than other neighborhoods, like distances or transportation from neighborhood to medical clinic.**"
   ]
  },
  {
   "cell_type": "markdown",
   "id": "b5fa1091",
   "metadata": {
    "papermill": {
     "duration": 0.017274,
     "end_time": "2022-06-06T17:53:19.746612",
     "exception": false,
     "start_time": "2022-06-06T17:53:19.729338",
     "status": "completed"
    },
    "tags": []
   },
   "source": [
    "### Limitations:"
   ]
  },
  {
   "cell_type": "markdown",
   "id": "0bf802b0",
   "metadata": {
    "papermill": {
     "duration": 0.017442,
     "end_time": "2022-06-06T17:53:19.781714",
     "exception": false,
     "start_time": "2022-06-06T17:53:19.764272",
     "status": "completed"
    },
    "tags": []
   },
   "source": [
    "**Most of characteristics take only two values 0 or 1 which made the deep investigation and the discovering the correlation is difficult.**"
   ]
  },
  {
   "cell_type": "markdown",
   "id": "cc3cee4e",
   "metadata": {
    "papermill": {
     "duration": 0.01993,
     "end_time": "2022-06-06T17:53:19.819450",
     "exception": false,
     "start_time": "2022-06-06T17:53:19.799520",
     "status": "completed"
    },
    "tags": []
   },
   "source": [
    "**More information like the distance between the medical clinic and the patient's home and the state of the weather will give us a chance to answer the question (Why do 30% of patients miss their scheduled appointments?) high.** "
   ]
  }
 ],
 "metadata": {
  "kernelspec": {
   "display_name": "Python 3",
   "language": "python",
   "name": "python3"
  },
  "language_info": {
   "codemirror_mode": {
    "name": "ipython",
    "version": 3
   },
   "file_extension": ".py",
   "mimetype": "text/x-python",
   "name": "python",
   "nbconvert_exporter": "python",
   "pygments_lexer": "ipython3",
   "version": "3.7.12"
  },
  "papermill": {
   "default_parameters": {},
   "duration": 20.064886,
   "end_time": "2022-06-06T17:53:20.558951",
   "environment_variables": {},
   "exception": null,
   "input_path": "__notebook__.ipynb",
   "output_path": "__notebook__.ipynb",
   "parameters": {},
   "start_time": "2022-06-06T17:53:00.494065",
   "version": "2.3.4"
  }
 },
 "nbformat": 4,
 "nbformat_minor": 5
}
